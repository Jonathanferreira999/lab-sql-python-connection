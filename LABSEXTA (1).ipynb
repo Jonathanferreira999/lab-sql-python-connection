{
 "cells": [
  {
   "cell_type": "code",
   "execution_count": 1,
   "id": "ee78e73b",
   "metadata": {},
   "outputs": [
    {
     "name": "stdout",
     "output_type": "stream",
     "text": [
      "Requirement already satisfied: sqlalchemy in /opt/anaconda3/lib/python3.9/site-packages (2.0.29)\n",
      "Requirement already satisfied: typing-extensions>=4.6.0 in /opt/anaconda3/lib/python3.9/site-packages (from sqlalchemy) (4.11.0)\n",
      "Requirement already satisfied: greenlet!=0.4.17 in /opt/anaconda3/lib/python3.9/site-packages (from sqlalchemy) (1.1.1)\n"
     ]
    }
   ],
   "source": [
    "!pip install sqlalchemy"
   ]
  },
  {
   "cell_type": "code",
   "execution_count": 2,
   "id": "7be5cb8f",
   "metadata": {},
   "outputs": [
    {
     "name": "stdout",
     "output_type": "stream",
     "text": [
      "········\n"
     ]
    }
   ],
   "source": [
    "import pandas as pd\n",
    "import numpy as np\n",
    "import pymysql \n",
    "from sqlalchemy import create_engine\n",
    "import getpass  # To get the password without showing the input\n",
    "password = getpass.getpass()"
   ]
  },
  {
   "cell_type": "code",
   "execution_count": 5,
   "id": "e3f3c3ee",
   "metadata": {},
   "outputs": [
    {
     "name": "stdout",
     "output_type": "stream",
     "text": [
      "Collecting mysql-connector-python\n",
      "  Downloading mysql_connector_python-8.4.0-py2.py3-none-any.whl (565 kB)\n",
      "\u001b[K     |████████████████████████████████| 565 kB 4.8 MB/s eta 0:00:01\n",
      "\u001b[?25hInstalling collected packages: mysql-connector-python\n",
      "Successfully installed mysql-connector-python-8.4.0\n",
      "Note: you may need to restart the kernel to use updated packages.\n"
     ]
    }
   ],
   "source": [
    "pip install mysql-connector-python"
   ]
  },
  {
   "cell_type": "code",
   "execution_count": 9,
   "id": "d964fb5c",
   "metadata": {},
   "outputs": [
    {
     "name": "stdout",
     "output_type": "stream",
     "text": [
      "Connected to the database\n"
     ]
    }
   ],
   "source": [
    "import mysql.connector as mp\n",
    "\n",
    "cnx = mp.connect(\n",
    "    host='localhost',  # replace with your host name\n",
    "    user='root',  # replace with your username\n",
    "    password='2735272Rodj',  # replace with your password\n",
    "    database='sakila'  # replace with your database name\n",
    ")\n",
    "# Check if the connection is established\n",
    "if cnx.is_connected():\n",
    "    print(\"Connected to the database\")\n",
    "else:\n",
    "    print(\"Failed to connect to the database\")\n",
    "\n",
    "# Don't forget to close the connection\n"
   ]
  },
  {
   "cell_type": "code",
   "execution_count": 13,
   "id": "7a3990cc",
   "metadata": {},
   "outputs": [
    {
     "name": "stdout",
     "output_type": "stream",
     "text": [
      "      rental_id         rental_date  inventory_id  customer_id  \\\n",
      "0             1 2005-05-24 22:53:30           367          130   \n",
      "1             2 2005-05-24 22:54:33          1525          459   \n",
      "2             3 2005-05-24 23:03:39          1711          408   \n",
      "3             4 2005-05-24 23:04:41          2452          333   \n",
      "4             5 2005-05-24 23:05:21          2079          222   \n",
      "...         ...                 ...           ...          ...   \n",
      "1151       1153 2005-05-31 21:36:44          2725          506   \n",
      "1152       1154 2005-05-31 21:42:09          2732           59   \n",
      "1153       1155 2005-05-31 22:17:11          2048          251   \n",
      "1154       1156 2005-05-31 22:37:34           460          106   \n",
      "1155       1157 2005-05-31 22:47:45          1449           61   \n",
      "\n",
      "             return_date  staff_id         last_update  \n",
      "0    2005-05-26 22:04:30         1 2006-02-15 21:30:53  \n",
      "1    2005-05-28 19:40:33         1 2006-02-15 21:30:53  \n",
      "2    2005-06-01 22:12:39         1 2006-02-15 21:30:53  \n",
      "3    2005-06-03 01:43:41         2 2006-02-15 21:30:53  \n",
      "4    2005-06-02 04:33:21         1 2006-02-15 21:30:53  \n",
      "...                  ...       ...                 ...  \n",
      "1151 2005-06-10 01:26:44         2 2006-02-15 21:30:53  \n",
      "1152 2005-06-08 16:40:09         1 2006-02-15 21:30:53  \n",
      "1153 2005-06-04 20:27:11         2 2006-02-15 21:30:53  \n",
      "1154 2005-06-01 23:02:34         2 2006-02-15 21:30:53  \n",
      "1155 2005-06-02 18:01:45         1 2006-02-15 21:30:53  \n",
      "\n",
      "[1156 rows x 7 columns]\n"
     ]
    }
   ],
   "source": [
    "import pandas as pd\n",
    "\n",
    "def rentals_month(cnx, month, year):\n",
    "    query = \"\"\"\n",
    "    SELECT *\n",
    "    FROM rental\n",
    "    WHERE MONTH(rental_date) = %s AND YEAR(rental_date) = %s\n",
    "    \"\"\"\n",
    "    df = pd.read_sql_query(query, cnx, params=(month, year))\n",
    "    return df\n",
    "print(df)"
   ]
  },
  {
   "cell_type": "code",
   "execution_count": 11,
   "id": "e7e5efe2",
   "metadata": {},
   "outputs": [
    {
     "name": "stdout",
     "output_type": "stream",
     "text": [
      "     customer_id  rentals_5_2005\n",
      "0              1               2\n",
      "1              2               1\n",
      "2              3               2\n",
      "3              5               3\n",
      "4              6               3\n",
      "..           ...             ...\n",
      "515          594               4\n",
      "516          595               1\n",
      "517          596               6\n",
      "518          597               2\n",
      "519          599               1\n",
      "\n",
      "[520 rows x 2 columns]\n"
     ]
    }
   ],
   "source": [
    "def rental_count_month(df, month, year):\n",
    "    # Group by customer_id and count the number of rentals\n",
    "    df_count = df.groupby('customer_id').size().reset_index(name=f'rentals_{month}_{year}')\n",
    "    return df_count\n",
    "df = rentals_month(cnx, 5, 2005)  # Get rentals for May 2005\n",
    "df_count = rental_count_month(df, 5, 2005)  # Count rentals by customer for May 2005\n",
    "print(df_count)"
   ]
  },
  {
   "cell_type": "code",
   "execution_count": 12,
   "id": "dd35a5e5",
   "metadata": {},
   "outputs": [
    {
     "name": "stdout",
     "output_type": "stream",
     "text": [
      "     customer_id  rentals_5_2005  rentals_6_2005  difference\n",
      "0              1               2               7          -5\n",
      "1              2               1               1           0\n",
      "2              3               2               4          -2\n",
      "3              5               3               5          -2\n",
      "4              6               3               4          -1\n",
      "..           ...             ...             ...         ...\n",
      "507          594               4               6          -2\n",
      "508          595               1               2          -1\n",
      "509          596               6               2           4\n",
      "510          597               2               3          -1\n",
      "511          599               1               4          -3\n",
      "\n",
      "[512 rows x 4 columns]\n"
     ]
    },
    {
     "name": "stderr",
     "output_type": "stream",
     "text": [
      "/opt/anaconda3/lib/python3.9/site-packages/pandas/io/sql.py:761: UserWarning: pandas only support SQLAlchemy connectable(engine/connection) ordatabase string URI or sqlite3 DBAPI2 connectionother DBAPI2 objects are not tested, please consider using SQLAlchemy\n",
      "  warnings.warn(\n",
      "/opt/anaconda3/lib/python3.9/site-packages/pandas/io/sql.py:761: UserWarning: pandas only support SQLAlchemy connectable(engine/connection) ordatabase string URI or sqlite3 DBAPI2 connectionother DBAPI2 objects are not tested, please consider using SQLAlchemy\n",
      "  warnings.warn(\n"
     ]
    }
   ],
   "source": [
    "def compare_rentals(df1, df2):\n",
    "    # Merge the two DataFrames on customer_id\n",
    "    df = pd.merge(df1, df2, on='customer_id', suffixes=('_month1', '_month2'))\n",
    "\n",
    "    # Calculate the difference between the number of rentals in the two months\n",
    "    df['difference'] = df.iloc[:, 1] - df.iloc[:, 2]\n",
    "\n",
    "    return df\n",
    "df1 = rental_count_month(rentals_month(cnx, 5, 2005), 5, 2005)  # Count rentals by customer for May 2005\n",
    "df2 = rental_count_month(rentals_month(cnx, 6, 2005), 6, 2005)  # Count rentals by customer for June 2005\n",
    "\n",
    "df_compare = compare_rentals(df1, df2)  # Compare rentals in May and June 2005\n",
    "print(df_compare)"
   ]
  },
  {
   "cell_type": "code",
   "execution_count": null,
   "id": "856c77b1",
   "metadata": {},
   "outputs": [],
   "source": []
  }
 ],
 "metadata": {
  "kernelspec": {
   "display_name": "Python 3 (ipykernel)",
   "language": "python",
   "name": "python3"
  },
  "language_info": {
   "codemirror_mode": {
    "name": "ipython",
    "version": 3
   },
   "file_extension": ".py",
   "mimetype": "text/x-python",
   "name": "python",
   "nbconvert_exporter": "python",
   "pygments_lexer": "ipython3",
   "version": "3.9.12"
  }
 },
 "nbformat": 4,
 "nbformat_minor": 5
}
